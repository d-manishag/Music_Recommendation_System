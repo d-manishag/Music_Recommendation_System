{
 "cells": [
  {
   "cell_type": "code",
   "execution_count": 6,
   "id": "357ac673",
   "metadata": {},
   "outputs": [],
   "source": [
    "import os\n",
    "import sys\n",
    "import time\n",
    "import glob\n",
    "import tables\n",
    "import scipy.io as sio\n",
    "import pandas as pd\n",
    "import numpy as np\n",
    "#import hdf5_getters\n",
    "from pandas import read_hdf\n",
    "import numpy as np"
   ]
  },
  {
   "cell_type": "code",
   "execution_count": 7,
   "id": "2d2a4f13",
   "metadata": {},
   "outputs": [],
   "source": [
    "def get_all_files(basedir,ext='.h5') :\n",
    "    \"\"\"\n",
    "    From a root directory, go through all subdirectories\n",
    "    and find all files with the given extension.\n",
    "    Return all absolute paths in a list.\n",
    "    \"\"\"\n",
    "    allfiles = []\n",
    "    for root, dirs, files in os.walk(basedir):\n",
    "        files = glob.glob(os.path.join(root,'*'+ext))\n",
    "        for f in files :\n",
    "            allfiles.append( os.path.abspath(f) )\n",
    "    return allfiles"
   ]
  },
  {
   "cell_type": "code",
   "execution_count": 8,
   "id": "1e3650c0",
   "metadata": {},
   "outputs": [],
   "source": [
    "def transfer(h5path,matpath=None,force=False):\n",
    "    \"\"\"\n",
    "    Transfer an HDF5 song file (.h5) to a matfile (.mat)\n",
    "    If there are more than one song in the HDF5 file, each\n",
    "    field name gets a number happened: 1, 2, 3, ...., numfiles\n",
    "    PARAM\n",
    "        h5path  - path to the HDF5 song file\n",
    "        matpath - path to the new matfile, same as HDF5 path\n",
    "                  with a different extension by default\n",
    "        force   - if True and matfile exists, overwrite\n",
    "    RETURN\n",
    "        True if the file was transfered, False if there was\n",
    "        a problem.\n",
    "        Could also raise an IOException\n",
    "    NOTE\n",
    "        All the data has to be loaded in memory! be careful\n",
    "        if one file contains tons of songs!\n",
    "    \"\"\"\n",
    "    # sanity checks\n",
    "    if not os.path.isfile(h5path):\n",
    "        print ('path to HF5 files does not exist:',h5path)\n",
    "        return False\n",
    "    if not os.path.splitext(h5path)[1] == '.h5':\n",
    "        print ('expecting a .h5 extension for file:',h5path)\n",
    "        return False\n",
    "    # check matfile\n",
    "    if matpath is None:\n",
    "        matpath = os.path.splitext(h5path)[0] + '.mat'\n",
    "    if os.path.exists(matpath):\n",
    "        if not force: \n",
    "            print('matfile',matpath,'already exists (delete or force):')\n",
    "            return False\n",
    "    # get all getters! we assume that all we need is in hdf5_getters.py\n",
    "    # further assume that they have the form\n",
    "        # only thing that has that form\n",
    "    getters = list(filter(lambda x: x[:4] == 'get_', hdf5_getters.__dict__.keys()))\n",
    "    getters.remove(\"get_num_songs\") # special case\n",
    "    # open h5 file\n",
    "    h5 = hdf5_getters.open_h5_file_read(h5path)\n",
    "    # transfer\n",
    "    nSongs = hdf5_getters.get_num_songs(h5)\n",
    "    matdata = {'transfer_note':'transferred on '+time.ctime()+' from file: '+h5path}\n",
    "    try:\n",
    "        # iterate over songs\n",
    "        for songidx in range(nSongs):\n",
    "            # iterate over getter\n",
    "            for getter in getters:\n",
    "                gettername = getter[4:]\n",
    "                if nSongs > 1:\n",
    "                    gettername += str(songidx+1)\n",
    "                data = hdf5_getters.__getattribute__(getter)(h5,songidx)\n",
    "                matdata[gettername] = data\n",
    "    except MemoryError:\n",
    "        print('Error')\n",
    "        raise\n",
    "    finally:\n",
    "        # close h5\n",
    "        h5.close()\n",
    "    # create\n",
    "    return matdata\n"
   ]
  },
  {
   "cell_type": "code",
   "execution_count": 9,
   "id": "efe73405",
   "metadata": {},
   "outputs": [],
   "source": [
    "h5s = get_all_files('../data/MillionSongSubset/')"
   ]
  },
  {
   "cell_type": "code",
   "execution_count": 10,
   "id": "979a7513",
   "metadata": {},
   "outputs": [],
   "source": [
    "df = pd.DataFrame()"
   ]
  },
  {
   "cell_type": "code",
   "execution_count": 12,
   "id": "ce40c2e4",
   "metadata": {},
   "outputs": [],
   "source": [
    "for file in h5s:\n",
    "    xd = transfer(file)\n",
    "    df = df.append(pd.Series(xd), ignore_index=True)"
   ]
  },
  {
   "cell_type": "code",
   "execution_count": null,
   "id": "e7bcf98f",
   "metadata": {},
   "outputs": [],
   "source": []
  }
 ],
 "metadata": {
  "kernelspec": {
   "display_name": "Python 3 (ipykernel)",
   "language": "python",
   "name": "python3"
  },
  "language_info": {
   "codemirror_mode": {
    "name": "ipython",
    "version": 3
   },
   "file_extension": ".py",
   "mimetype": "text/x-python",
   "name": "python",
   "nbconvert_exporter": "python",
   "pygments_lexer": "ipython3",
   "version": "3.9.13"
  }
 },
 "nbformat": 4,
 "nbformat_minor": 5
}
